{
 "cells": [
  {
   "cell_type": "markdown",
   "id": "e73ebb07760b14e1",
   "metadata": {
    "lang": "de",
    "slideshow": {
     "slide_type": "slide"
    },
    "tags": [
     "slide"
    ]
   },
   "source": [
    "\n",
    "<img src=\"data:image/png;base64,iVBORw0KGgoAAAANSUhEUgAAAEAAAABACAYAAACqaXHeAAAABHNCSVQICAgIfAhkiAAAAAlwSFlzAAACkwAAApMBv+Bu1wAAABl0RVh0U29mdHdhcmUAd3d3Lmlua3NjYXBlLm9yZ5vuPBoAAAumSURBVHic1Vt7WFRlGv99ZwYGZoABVGCQS2gqqVikbImauanrqm31aNaz1SYhdtu85LqumTjenloto9ZWS+yiWZZPW7aaaWghXjC8cF0uclHuAwwwA3Ofc779A0HGGZgzZway318z53u/93vP73zn/d73O99L8Ctg6QcF8yjBK5TQSYRCSihKAOw3e/vv+iQpxjiYtpDBHOy5vXljRCzZAWBuHyK1lNB16Usm7AchdDBsGhQCXvx3fpBVjDUAVgLw5tElk+GY5R+8MD5vgE0bWAKUSsrUDs9/mlCyHUCIi905gB6ghFmdnhKnGgj7gAEkYOkHhTMo4dIATHBTVTuAN32Mvmn/WjbK5AHTbOBxApI+KogUW7mtAHnGw6rLALJqz9K4I55U6jECntmXJ/M1YDUlZA0AH0/pdYAMgFuxZ+k9RZ5Q5j4BlJKlHxYsBPA2JYh03yResFBCd1nF3IZPkuLb3VHkFgEpHxYmAFwagER39LiBVoBuag8s3Xlo0SJWiAJBBDy393K42CreQAmWAGCE6PAsaC5AVuxZOiHT1Z4uEbByxznfTj+/ZQDWAfB3dbCBBz1CCZalp9xdxbcHbwKSd+c9zDDkXQAxgmwbPJgpobs5RvL6R8mxHc6EnRKQnJ4bTyiTRige8Ix9g4Z6SrAxoi4uXakkXF9CfRLw8s7iISaJOZVQ8jIAkbvWyKVi3BXuhzvDZAgLlCDIzwsy7y61OjOLTqMV9W0mVDcbUFLfiYZ2j8U8OV3+Ie6co0aHBKR8WDAfoPsBBLozMiHAvTFyPBAbjNhwPxAXPE5tqxHnr7bhdHErTJY+HyBfcAC2D6+Pe+3W2WBn0o2l7Qz4JS19YkKUPxber0CYXOKOGnQarTie34KMghawnHsJIiVEmZ4St7H3NQcE5GcDuE/oIFKJCM9MG46JMXKhKhyiRm3Ex5k1qFUL2y4ws2zxycJyU217+8M4kFLbfd3m3V6yJy+GgGwXaqQiSIK/zx+BkaEyoSr6hFwqRuLoYKg0JjS08fcPlEJ18Vpt3vH8snitwaQASDUKvrvQ3S7uLUwoGSnUwOhhvlgxJwYyH7f9ZZ/wEhEs/X0UvvStx6kitTNxY7Vak32qqDzBwrJTeq5yuLO3kA0BDEfFHON6cBgWKMHyOXcM6M13gxDgicRwdJpY/FLuOA3QGU05R/NKwzR644MOmm2MFDsQcAk+Xgxenh0NPx+3VfEGAbB4egRatGZUNul7rrMsV5lZUtVW0aRO4KvL7Tj+icRwhLrp6YVAzBAkPRgBLzEDULQV1TWe/jjrYnRFk3qiS3rcMWKUQobE0UEu99MZWZSrdGjVWWC2cpD7eiFqqA/Cg1zbRhjq741RIZKi1w6dVRjMVkGRqlsELEgIcymbqmzS47tLKpTU6cBR+zU9VC7BrAlDMXVMEBgnUVNJfac2Jf10+5mShnEumm0DwQSMVsgwIlTKS5bjKL7KbsBPRWr0F8qoNCZ8llWHs6VteH5mFIJlXnYyzVqzZdt/CyveOnolFkCAMOtvQrAPmBobzEuOoxS7M6pxysnN90ZVkx5vHq6AusPcc81o4egXZ6sropZ9wd24eY9A0AwQiwji7+BH/rc5KuRe17o8RrvOgvdPXMfaR0biYlWb6s87T4mvNWsFxyl9QRABI0KkkIidT57GdhNOFLQIGQIAUNmkK/rd+iPi3OvNYwQrcQJhBPB894/lNoMTkMBQioaL12orc6/XJ4I69rNiEYNRYV2zsLjOPiDy8RIhJsQfFiuHclXfM1AQAQoe6z7LUeRVuzz19TXq9pyTRRWTbMJXBwgJ8MH/ti8AADBP7cWti8r4yCDkbHkEje0GKF76vE89gggIdOCdb0WjxgS9ifdGLdUYjdnHckujOgym6f0JMoTAz0cMP5+bNvjf+N1htEDEMJB6iyCTdN0aIUCAb1e71mCx0yeIAImX8/e/XWc/mCNYWbY4o7DcUtOqmcxHfmLMUPyy5U821zR7/wIAiPzrQUyMGYpvV83saQuV+/a0i576yC7+GLAAnjgJkSioKq/katnFopIh1C8I8B78cBoQSACfLSq5rE/VlvrmlvM/Zl2IN1st0wAAGjUgEuVAPiQcIvHw/vReqmqBPHkfwgKlKH17YddYyfsAdL0CjRoD5Mn7EH/HEPy8fh5UGgNGv3oIABxGn4IIaOMxvRWBEsh8RNAZb/oBnd6Q8/3pc6Ht2g77uJ1lE9DapIe3JBMBwZNAiMNdFY5SaA0W+PnctKHDaOlxglaWg9bAQWeyAgAodfzud0MQAY08dmwZQjAhKgDny9rAclzl6ZzLreXXa52lqVKYTdOhbmyA1D8XUr9E9LFx26Q1YuzqrwHAbgUAgMKaNoxd/TUs1v5nqyACKnrl4P1hXnwI+8nxy+fOXMyfzFE6gvcAlCqg0yqg7yhSREeIG3SsXSBkZTmH6383jBa23/ZuCMoFqpr0vPxASIC3aMqdftM4SgURfXdMyLiKnU+P+eqlKaqwAInTPTAhEESAlaW4co1fkLMlaQYem+J67hIxLACHNz0BX4kYj0+NDS3d8Xjw1kfHVXiJGY+eEhGcDWaVtvIbgBAcSl2IlQvu4/1hZPLYCJx/NwnRoTe31gOkEvLaovtHFv/zUebJiYoSITY7tE9ox6sNOpSr+PkCEUOw44XZyH4vGXMSRkIscjzs2OhhSH91PrLeWYyIYY6zzZGKIK8vVs2NzVw7Szte4Vct1P5u2DyT53fnzeEYcoxnXxoVJCpct+CuOOLKNy8ArR0GnCuqRXWTBnqTBYpgP0wcrUBs5FCX9FisHJLeOVp04FKjAgzDb4OCYhcOLnmp+68g52SxsEU/nsumdarmOIVsPpL/GO9S/2B/X8y/f5SQoW1Q2dCG/2QWjoOJbYNUehoyeSJcvCeXhDlKGy8VFlfklpT1pKkrdp3AlPGRLj89d2GysHh222EYugKeIOh1D0BvqESAvBUS30l89fD1AYaahsbMfd8c9c8tLpvSO0fvNJjxSOpXaNbw8weeAKXA4u2HcaGk7pYWbgS0bZPQqsoBa6nho8uGAI4h1lvH6ujszDp4NEP9Q1b2dIvV6jA8LatVY87az9EyCCRwlGLZ+z/g4E/9nJJj2QS0NodCqz4PSnW3tvb+Y0MAJbSi+7eFtZb8kHU+/+D3GdM6dJ0Rzgy7fLUB01Z+ior6Nl43IgQGkxWLNn+NnYdz+Ih7w2SajJYGHXTabODGniyD8t5Cdu47afeVo4VlFZKL+cUPUlCXP/bJZRLsXj4PT85wa7veDpevNmDx9u9QUNUkTAFhShAQaAbjPxeHnu15d+zXr1lbJoFyZ+HmAYk5CSPx9vOzMDZ6mDtq0KzRY9uX5/DuNxecJjZOQbABP6Zusr3kCDM3zgPIZ3DziAxDCB6bGouUufGYee8IiFz48nylvBGfnshD+rEr0Bn57S71Aw7ANkzl1kGp7P+ITA/+oAwGx2wAhUcOSYUEyvBQfAymxUUhNnIIokLkCPL3ASEErVoDWrR6FFY14dLVBpy8cg1ltR7LfXJAsRwnU887anT+SGYp7wFl0gD0u1l5G6IewFpkrN8P9F19wn9Ozt74MLjfxEFJA0Dfg8FnK86ucf+gpA0eV3qjXfQiKN2M2/KoLI6AIctwYr3nj8raYJYyHJTZANwuh6VxBQyzAideP+1qR/fqBR7alACGpoGSX+u4vBqEbEbgmJ04NIjH5W1BCWZtWghK3gIQ5b4+XrCAYBeodyoy/qFxR5HnaoZmb5eB068GBqFkhsUK/JR6m5TM3IrZWyLB0a0A9XzRFCWrcHL97Vk0ZYeHNs4AYdIA6n7ZHCFvQixPw7Flt3/ZnA2USgZnmKcBCCycJAfAsH/DCaXADMg5Bqd2eN4bQTCZ1wCEb+nszxBhBY6n/rZLZ+0wY/MYiGjfxdMEtaBY5yx89SQGl4BudGWbrwCYBEAKkGIAn8HK7sLPykEtn/8/zE19fO7n0IAAAAAASUVORK5CYII=\"\n",
    "     style=\"display:block;margin:auto;width:5%\"/>\n",
    "<br>\n",
    "\n",
    "<div style=\"text-align:center; font-size:200%;\">\n",
    " <b>Typen</b>\n",
    "</div>\n",
    "<br/>\n",
    "<div style=\"text-align:center; font-size:120%;\">Dr. Matthias Hölzl</div>\n",
    "<br/>\n",
    "<div style=\"text-align:center;\">Coding-Akademie München</div>\n",
    "<br/>\n",
    "<!-- 01 Typen.ipynb -->\n",
    "<!-- slides/module_120_basics/topic_110_types_beginner.cpp -->"
   ]
  },
  {
   "cell_type": "markdown",
   "id": "7c81b5c91a958ce2",
   "metadata": {
    "lang": "de",
    "lines_to_next_cell": 2,
    "slideshow": {
     "slide_type": "slide"
    },
    "tags": [
     "slide"
    ]
   },
   "source": [
    "\n",
    "# Einstieg in C++\n",
    "\n",
    "- Überblick über die wichtigsten Sprachkonstrukte\n",
    "- Konzentration auf die wichtigsten Aspekte\n",
    "- Etwas mehr Vorbereitung als in anderen Sprachen, bis wir interessante\n",
    "  Programme schreiben können"
   ]
  },
  {
   "cell_type": "markdown",
   "id": "e1c89d6f791c0064",
   "metadata": {
    "lang": "de",
    "slideshow": {
     "slide_type": "slide"
    },
    "tags": [
     "slide"
    ]
   },
   "source": [
    "\n",
    "## Ziel: Berechnung von Pfadkosten\n",
    "\n",
    "Wir wollen folgendes Programm schreiben:\n",
    "\n",
    "- Gegeben: Liste von Koordinaten $(x, y, z)$ ($z$ ist Höhe).\n",
    "- Berechne die Kosten für eine Tour, die die Koordinaten der Reihe nach\n",
    "  besucht.\n",
    "- Die Kosten für ein Segment sind von der relativen Höhe des Start- und\n",
    "  Endpunkts sowie von den $(x, y)$-Koordinaten abhängig.\n",
    "\n",
    "Dabei gehen wir in kleinen Schritten vor und führen verschiedene\n",
    "Sprach-Features ein."
   ]
  },
  {
   "cell_type": "markdown",
   "id": "fedbc6c0f9e0a83c",
   "metadata": {
    "lang": "de",
    "slideshow": {
     "slide_type": "subslide"
    },
    "tags": [
     "subslide"
    ]
   },
   "source": [
    "\n",
    "## Abstand zwischen zwei Punkten\n",
    "\n",
    "Wir wollen den Abstand zwischen zwei Punkten in der Ebene berechnen, die\n",
    "durch ihre $x$ und $y$ Koordinaten gegeben sind, z.B. $p_1 = (1, 2)$ und $p_2\n",
    "= (4, 6)$.\n",
    "\n",
    "Mit dem Satz des Pythagoras geht das so:\n",
    "\n",
    "$$\n",
    "\\begin{align}\n",
    "d(p_1, p_2) &= \\sqrt{(x_2 - x_1)^2 + (y_2 - y_1)^2} \\\\\n",
    "&= \\sqrt{(4 - 1)^2 + (6 - 2)^2} \\\\\n",
    "&= \\sqrt{9 + 16} \\\\\n",
    "&= \\sqrt{25} \\\\\n",
    "&= 5\n",
    "\\end{align}\n",
    "$$"
   ]
  },
  {
   "cell_type": "markdown",
   "id": "988143e226c1926f",
   "metadata": {
    "lang": "de",
    "slideshow": {
     "slide_type": "subslide"
    },
    "tags": [
     "subslide"
    ]
   },
   "source": [
    "\n",
    "- Verwenden wir C++ als Taschenrechner:"
   ]
  },
  {
   "cell_type": "code",
   "execution_count": null,
   "id": "5b6f698c3690afe6",
   "metadata": {},
   "outputs": [],
   "source": [
    "(4 - 1) * (4 - 1) + (6 - 2) * (6 - 2)"
   ]
  },
  {
   "cell_type": "code",
   "execution_count": null,
   "id": "89f5d485c3fbf428",
   "metadata": {
    "tags": [
     "alt"
    ]
   },
   "outputs": [],
   "source": [
    "sqrt((4 - 1) * (4 - 1) + (6 - 2) * (6 - 2))"
   ]
  },
  {
   "cell_type": "code",
   "execution_count": null,
   "id": "49fe755bcd65f555",
   "metadata": {
    "lang": "de",
    "tags": [
     "alt"
    ]
   },
   "outputs": [],
   "source": [
    "// Berechne die Entfernung\n",
    "sqrt((4 - 1) * (4 - 1) + (6 - 2) * (6 - 2))"
   ]
  },
  {
   "cell_type": "markdown",
   "id": "c3496060b0cfeaaf",
   "metadata": {
    "lang": "de",
    "slideshow": {
     "slide_type": "slide"
    },
    "tags": [
     "slide"
    ]
   },
   "source": [
    "\n",
    "# Kommentare\n",
    "\n",
    "- `//` bis zum Ende der Zeile\n",
    "- `/*` bis zum nächsten `*/`\n",
    "- `/* ... */` Kommentare können nicht verschachtelt werden!"
   ]
  },
  {
   "cell_type": "code",
   "execution_count": null,
   "id": "2548bd9fb5a3416c",
   "metadata": {
    "lang": "de",
    "tags": [
     "keep"
    ]
   },
   "outputs": [],
   "source": [
    "// Dies ist ein Kommentar, der bis zum Ende der Zeile geht.\n",
    "123\n",
    "// Das auch."
   ]
  },
  {
   "cell_type": "code",
   "execution_count": null,
   "id": "27de04ee9b172a82",
   "metadata": {
    "lang": "de",
    "tags": [
     "keep"
    ]
   },
   "outputs": [],
   "source": [
    "/*\n",
    "    Dies ist\n",
    "    ein mehrzeiliger\n",
    "    Kommentar\n",
    "*/\n",
    "123\n",
    "/* Das nicht. */"
   ]
  },
  {
   "cell_type": "code",
   "execution_count": null,
   "id": "b287f697921fc27c",
   "metadata": {
    "lang": "de",
    "tags": [
     "keep"
    ]
   },
   "outputs": [],
   "source": [
    "// /* Dieser /* scheinbar verschachtelter Kommentar */ funktioniert nicht wie man denkt! */\n",
    "123"
   ]
  },
  {
   "cell_type": "markdown",
   "id": "a3615f88ffcb4317",
   "metadata": {
    "lang": "de",
    "slideshow": {
     "slide_type": "slide"
    },
    "tags": [
     "slide"
    ]
   },
   "source": [
    "\n",
    "# Variablen und Datentypen\n",
    "\n",
    "- Wir wollen die Differenz der Koordinaten von $p_1$ und $p_2$ nicht immer wieder angeben.\n",
    "- Daher führen wir Variablen ein.\n",
    "- Variablen sind benannte Speicherbereiche.\n",
    "- Zu jeder Variablen müssen wir einen Datentyp angeben:"
   ]
  },
  {
   "cell_type": "code",
   "execution_count": null,
   "id": "a0c393fa5fad9371",
   "metadata": {},
   "outputs": [],
   "source": [
    "int dx;\n",
    "int dy;"
   ]
  },
  {
   "cell_type": "code",
   "execution_count": null,
   "id": "dac77bd96795391f",
   "metadata": {},
   "outputs": [],
   "source": [
    "dx"
   ]
  },
  {
   "cell_type": "code",
   "execution_count": null,
   "id": "855f65f6fd9a2d20",
   "metadata": {},
   "outputs": [],
   "source": [
    "dy"
   ]
  },
  {
   "cell_type": "code",
   "execution_count": null,
   "id": "ad1d414bc0e2b95c",
   "metadata": {
    "tags": [
     "alt"
    ]
   },
   "outputs": [],
   "source": [
    "int dx{4 - 1};\n",
    "int dy{6 - 2};"
   ]
  },
  {
   "cell_type": "code",
   "execution_count": null,
   "id": "e7cacb3e164124fc",
   "metadata": {
    "tags": [
     "alt"
    ]
   },
   "outputs": [],
   "source": [
    "dx"
   ]
  },
  {
   "cell_type": "code",
   "execution_count": null,
   "id": "3aab56c450ddc5a6",
   "metadata": {
    "tags": [
     "alt"
    ]
   },
   "outputs": [],
   "source": [
    "dy"
   ]
  },
  {
   "cell_type": "markdown",
   "id": "0b4f99c99127beaa",
   "metadata": {
    "lang": "de"
   },
   "source": [
    "\n",
    "- Damit können wir den Abstand kompakter berechnen:"
   ]
  },
  {
   "cell_type": "code",
   "execution_count": null,
   "id": "d0142d3ae06fbe4c",
   "metadata": {},
   "outputs": [],
   "source": [
    "sqrt(dx * dx + dy * dy)"
   ]
  },
  {
   "cell_type": "markdown",
   "id": "fa1341e3a8e6a110",
   "metadata": {
    "lang": "de",
    "slideshow": {
     "slide_type": "subslide"
    },
    "tags": [
     "subslide"
    ]
   },
   "source": [
    "\n",
    "### Core Guidelines\n",
    "\n",
    "- [ES.20: Always initialize an\n",
    "  object](https://isocpp.github.io/CppCoreGuidelines/CppCoreGuidelines#es20-always-initialize-an-object)\n",
    "- [ES.21: Don’t introduce a variable (or constant) before you need to use\n",
    "  it](https://isocpp.github.io/CppCoreGuidelines/CppCoreGuidelines#es21-dont-introduce-a-variable-or-constant-before-you-need-to-use-it)\n",
    "- [ES.22: Don’t declare a variable until you have a value to initialize it\n",
    "  with](https://isocpp.github.io/CppCoreGuidelines/CppCoreGuidelines#es22-dont-declare-a-variable-until-you-have-a-value-to-initialize-it-with)\n",
    "- [ES.23: Prefer the {}-initializer\n",
    "  syntax](https://isocpp.github.io/CppCoreGuidelines/CppCoreGuidelines#es23-prefer-the--initializer-syntax)"
   ]
  },
  {
   "cell_type": "markdown",
   "id": "868f5bbd30a151c8",
   "metadata": {
    "lang": "de",
    "slideshow": {
     "slide_type": "subslide"
    },
    "tags": [
     "subslide"
    ]
   },
   "source": [
    "\n",
    "- Mit Daten vom Typ `int` können wir nur ganzzahlige Koordinaten angeben.\n",
    "- Es wäre besser, Gleitkommazahlen zu verwenden:"
   ]
  },
  {
   "cell_type": "code",
   "execution_count": null,
   "id": "6ccceafcbfb00ba7",
   "metadata": {},
   "outputs": [],
   "source": [
    "double dx{4.0 - 1.0};\n",
    "double dy{6.0 - 2.0};"
   ]
  },
  {
   "cell_type": "code",
   "execution_count": null,
   "id": "4a511554d94cd5f9",
   "metadata": {},
   "outputs": [],
   "source": [
    "sqrt(dx * dx + dy * dy)"
   ]
  },
  {
   "cell_type": "markdown",
   "id": "5f427178af207353",
   "metadata": {
    "lang": "de",
    "slideshow": {
     "slide_type": "subslide"
    },
    "tags": [
     "subslide"
    ]
   },
   "source": [
    "\n",
    "## Typen\n",
    "\n",
    "- In C++ hat jede Variable und jeder Ausdruck einen eindeutigen Typ.\n",
    "- Ein *Typ*\n",
    "    - hat eine Menge von möglichen Werten,\n",
    "    - definiert die Operationen, die auf diesen Werten möglich sind."
   ]
  },
  {
   "cell_type": "markdown",
   "id": "d6d310cadab760b3",
   "metadata": {
    "lang": "de",
    "slideshow": {
     "slide_type": "subslide"
    },
    "tags": [
     "subslide"
    ]
   },
   "source": [
    "\n",
    "### Einige Fundamentale Typen\n",
    "\n",
    "| Typ         | Beschreibung      | Größe   | Werte     | &nbsp;   | Literale Syntax   |\n",
    "| :---------- | :---------------- | ------: | :-------: | :------: | ----------------- |\n",
    "| `bool`      | Boolesche Werte   | N/A     | `false`   | `true`   | `true`            |\n",
    "| `char`      | Zeichen           | 8 Bit   | 0         | 127      | `'a'`             |\n",
    "| `int`       | Zahlen            | 16 Bit  | -32768    | 32767    | `123`             |\n",
    "| `unsigned`  | positive Zahlen   | 16 Bit  | 0         | 65535    | `123u`            |\n",
    "| `long`      | große Zahlen      | 32 Bit  | -2^31     | 2^31 - 1 | `123L`            |\n",
    "| `long long` | sehr große Zahlen | 64 Bit  | -2^63     | 2^63 - 1 | `123LL`           |\n",
    "| `float`     | Gleitkommazahlen  | 6 SD    | 10.0^-38  | 10.0^38  | `1.0f`, `123e-2f` |\n",
    "| `double`    | Gleitkommazahlen  | 10 SD   | 10.0^-308 | 10.0^308 | `1.23`, `123e-2`  |\n",
    "\n",
    "- (SD = Significant Digits, Signifikante Stellen)\n",
    "- Typischerweise sind `int` und `unsigned` 32 Bit, aber das ist nicht vom Standard garantiert."
   ]
  },
  {
   "cell_type": "markdown",
   "id": "6fb3218dd1b02317",
   "metadata": {
    "lang": "de",
    "slideshow": {
     "slide_type": "subslide"
    },
    "tags": [
     "subslide"
    ]
   },
   "source": [
    "\n",
    "### Integrale Typen (ganze Zahlen und verwandte Typen)\n",
    "\n",
    "- Boolesche Werte: `bool`"
   ]
  },
  {
   "cell_type": "code",
   "execution_count": null,
   "id": "1680fd4a460a4fc9",
   "metadata": {},
   "outputs": [],
   "source": [
    "true"
   ]
  },
  {
   "cell_type": "markdown",
   "id": "d8be177d2ce60d8e",
   "metadata": {
    "lang": "de"
   },
   "source": [
    "\n",
    "- Zeichen: `char`"
   ]
  },
  {
   "cell_type": "code",
   "execution_count": null,
   "id": "2cca5d91a56c116d",
   "metadata": {},
   "outputs": [],
   "source": [
    "'a'"
   ]
  },
  {
   "cell_type": "markdown",
   "id": "89aacae8250e13c0",
   "metadata": {
    "lang": "de",
    "slideshow": {
     "slide_type": "subslide"
    },
    "tags": [
     "subslide"
    ]
   },
   "source": [
    "\n",
    "- Ganze Zahlen: `int`"
   ]
  },
  {
   "cell_type": "code",
   "execution_count": null,
   "id": "b0f3dc043a9c5c05",
   "metadata": {},
   "outputs": [],
   "source": [
    "1234"
   ]
  },
  {
   "cell_type": "markdown",
   "id": "035d520d6b554c99",
   "metadata": {
    "lang": "de"
   },
   "source": [
    "\n",
    "- In hexadezimaler Darstellung:"
   ]
  },
  {
   "cell_type": "code",
   "execution_count": null,
   "id": "eba0ef75ff4ba62c",
   "metadata": {},
   "outputs": [],
   "source": [
    "0x1F"
   ]
  },
  {
   "cell_type": "markdown",
   "id": "7d8a5d5e79c07ca6",
   "metadata": {
    "lang": "de"
   },
   "source": [
    "\n",
    "- Mit Apostroph zur Gruppierung:"
   ]
  },
  {
   "cell_type": "code",
   "execution_count": null,
   "id": "2162558278e3aa1a",
   "metadata": {},
   "outputs": [],
   "source": [
    "1'234"
   ]
  },
  {
   "cell_type": "markdown",
   "id": "e236cb8994184bcc",
   "metadata": {
    "lang": "de",
    "slideshow": {
     "slide_type": "subslide"
    },
    "tags": [
     "subslide"
    ]
   },
   "source": [
    "\n",
    "- Große Zahlen: `long`"
   ]
  },
  {
   "cell_type": "code",
   "execution_count": null,
   "id": "1878359cdc46b52d",
   "metadata": {},
   "outputs": [],
   "source": [
    "1L"
   ]
  },
  {
   "cell_type": "code",
   "execution_count": null,
   "id": "9c3df67f633f34c2",
   "metadata": {},
   "outputs": [],
   "source": [
    "1'234'567'890L"
   ]
  },
  {
   "cell_type": "markdown",
   "id": "bca752a3ab9ce26f",
   "metadata": {
    "lang": "de",
    "slideshow": {
     "slide_type": "subslide"
    },
    "tags": [
     "subslide"
    ]
   },
   "source": [
    "\n",
    "- Vorzeichenlose Zahlen: `unsigned`"
   ]
  },
  {
   "cell_type": "code",
   "execution_count": null,
   "id": "23600ec1dae8cce2",
   "metadata": {},
   "outputs": [],
   "source": [
    "1234567u"
   ]
  },
  {
   "cell_type": "markdown",
   "id": "55bd82c29422b52f",
   "metadata": {
    "lang": "de"
   },
   "source": [
    "\n",
    "- Arithmetik für `unsigned` ist modulo $2^n$."
   ]
  },
  {
   "cell_type": "code",
   "execution_count": null,
   "id": "133c6c131ede8f79",
   "metadata": {},
   "outputs": [],
   "source": [
    "123 - 124"
   ]
  },
  {
   "cell_type": "code",
   "execution_count": null,
   "id": "a124c94caf6ed9e6",
   "metadata": {},
   "outputs": [],
   "source": [
    "123u - 124u"
   ]
  },
  {
   "cell_type": "markdown",
   "id": "8c60fadd04ab2fc5",
   "metadata": {
    "lang": "de",
    "slideshow": {
     "slide_type": "subslide"
    },
    "tags": [
     "subslide"
    ]
   },
   "source": [
    "\n",
    "### Gleitkommazahlen\n",
    "\n",
    "- Schreibweise mit Dezimalpunkt: `double`\n",
    "- Beachten Sie, dass ein Punkt und kein Komma verwendet wird!"
   ]
  },
  {
   "cell_type": "code",
   "execution_count": null,
   "id": "48f443b020c30f1a",
   "metadata": {},
   "outputs": [],
   "source": [
    "1.23"
   ]
  },
  {
   "cell_type": "markdown",
   "id": "cb7a4511b83288c5",
   "metadata": {
    "lang": "de"
   },
   "source": [
    "\n",
    "- Schreibweise mit Exponent:"
   ]
  },
  {
   "cell_type": "code",
   "execution_count": null,
   "id": "0945bc65f24b0d9f",
   "metadata": {},
   "outputs": [],
   "source": [
    "123e-2"
   ]
  },
  {
   "cell_type": "markdown",
   "id": "be5f71585760ff9e",
   "metadata": {
    "lang": "de",
    "slideshow": {
     "slide_type": "subslide"
    },
    "tags": [
     "subslide"
    ]
   },
   "source": [
    "\n",
    "- Kleine Gleitkommazahlen: `float`"
   ]
  },
  {
   "cell_type": "code",
   "execution_count": null,
   "id": "50886d795459db09",
   "metadata": {},
   "outputs": [],
   "source": [
    "1.23f"
   ]
  },
  {
   "cell_type": "markdown",
   "id": "36297a4b9d390cd1",
   "metadata": {
    "lang": "de"
   },
   "source": [
    "\n",
    "- Schreibweise mit Exponent:"
   ]
  },
  {
   "cell_type": "code",
   "execution_count": null,
   "id": "3ca27ec2ce13d4b7",
   "metadata": {},
   "outputs": [],
   "source": [
    "123e-2f"
   ]
  },
  {
   "cell_type": "markdown",
   "id": "929d3c2dbfaf7563",
   "metadata": {
    "lang": "de",
    "slideshow": {
     "slide_type": "subslide"
    },
    "tags": [
     "subslide"
    ]
   },
   "source": [
    "\n",
    "- Eine Null nach dem Dezimalpunkt kann weggelassen werden:"
   ]
  },
  {
   "cell_type": "code",
   "execution_count": null,
   "id": "3670acbd7392d5dd",
   "metadata": {
    "lines_to_next_cell": 2
   },
   "outputs": [],
   "source": [
    "123.f"
   ]
  },
  {
   "cell_type": "markdown",
   "id": "04dcae0f4fa92604",
   "metadata": {
    "lang": "de",
    "slideshow": {
     "slide_type": "subslide"
    },
    "tags": [
     "subslide"
    ]
   },
   "source": [
    "\n",
    "## Workshop: Rechenoperationen\n",
    "\n",
    "In diesem sehr kurzen Workshop werden wir einige Literale in C++ auswerten.\n",
    "Der Hauptzweck ist, dass Sie im Umgang mit Notebooks vertraut werden."
   ]
  },
  {
   "cell_type": "markdown",
   "id": "6e465c09173defe0",
   "metadata": {
    "lang": "de"
   },
   "source": [
    "\n",
    "Was ist der Wert der Hexadezimalzahl `cafe` in Dezimaldarstellung?"
   ]
  },
  {
   "cell_type": "code",
   "execution_count": null,
   "id": "5b261650874f3317",
   "metadata": {},
   "outputs": [],
   "source": [
    "0xcafe"
   ]
  },
  {
   "cell_type": "code",
   "execution_count": null,
   "id": "7b7726c19d958bc7",
   "metadata": {
    "tags": [
     "alt"
    ]
   },
   "outputs": [],
   "source": [
    "0xCAFE"
   ]
  },
  {
   "cell_type": "markdown",
   "id": "f7af1a4057ca5dcb",
   "metadata": {
    "lang": "de",
    "slideshow": {
     "slide_type": "subslide"
    },
    "tags": [
     "subslide"
    ]
   },
   "source": [
    "\n",
    "Was passiert, wenn Sie 1 zum unsigned Wert `4'294'967'295` addieren?"
   ]
  },
  {
   "cell_type": "code",
   "execution_count": null,
   "id": "b79c6c4c330a18aa",
   "metadata": {},
   "outputs": [],
   "source": [
    "4'294'967'295u + 1"
   ]
  },
  {
   "cell_type": "markdown",
   "id": "8a9e5204addf3289",
   "metadata": {
    "lang": "de",
    "slideshow": {
     "slide_type": "subslide"
    },
    "tags": [
     "subslide"
    ]
   },
   "source": [
    "\n",
    "## Workshop: Variablen\n",
    "\n",
    "- Definieren Sie eine Variable `n` vom Typ `int` und initialisieren Sie sie\n",
    "  mit dem Wert 123.\n",
    "- Definieren Sie eine Variable `x` vom Typ `double` und initialisieren Sie\n",
    "  sie mit dem Wert 1.23.\n",
    "- Definieren Sie eine Variable `m` vom Typ `unsigned` und initialisieren Sie\n",
    "  sie mit dem Wert 123."
   ]
  },
  {
   "cell_type": "code",
   "execution_count": null,
   "id": "6777ed25f47acd49",
   "metadata": {},
   "outputs": [],
   "source": [
    "int n{123};"
   ]
  },
  {
   "cell_type": "code",
   "execution_count": null,
   "id": "4db693e48a25f097",
   "metadata": {},
   "outputs": [],
   "source": [
    "unsigned m{123u};"
   ]
  },
  {
   "cell_type": "code",
   "execution_count": null,
   "id": "2c0d9ef50b594647",
   "metadata": {},
   "outputs": [],
   "source": [
    "double x{1.23};"
   ]
  }
 ],
 "metadata": {
  "kernelspec": {
   "display_name": "C++17",
   "language": "C++17",
   "name": "xcpp17"
  },
  "language_info": {
   "codemirror_mode": "text/x-c++src",
   "file_extension": ".cpp",
   "mimetype": "text/x-c++src",
   "name": "c++",
   "version": "17"
  }
 },
 "nbformat": 4,
 "nbformat_minor": 5
}
