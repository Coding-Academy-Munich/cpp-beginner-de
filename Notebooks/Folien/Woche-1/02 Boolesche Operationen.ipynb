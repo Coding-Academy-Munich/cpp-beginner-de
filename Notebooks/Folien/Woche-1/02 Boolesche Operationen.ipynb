{
 "cells": [
  {
   "cell_type": "markdown",
   "id": "4b3397941957fec4",
   "metadata": {
    "lang": "de",
    "slideshow": {
     "slide_type": "slide"
    },
    "tags": [
     "slide"
    ]
   },
   "source": [
    "\n",
    "<img src=\"data:image/png;base64,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\"\n",
    "     style=\"display:block;margin:auto;width:5%\"/>\n",
    "<br>\n",
    "\n",
    "<div style=\"text-align:center; font-size:200%;\">\n",
    " <b>Boolesche Operationen</b>\n",
    "</div>\n",
    "<br/>\n",
    "<div style=\"text-align:center; font-size:120%;\">Dr. Matthias Hölzl</div>\n",
    "<br/>\n",
    "<div style=\"text-align:center;\">Coding-Akademie München</div>\n",
    "<br/>\n",
    "<!-- 02 Boolesche Operationen.ipynb -->\n",
    "<!-- slides/module_120_basics/topic_120_operations_beginner_1.cpp -->"
   ]
  },
  {
   "cell_type": "markdown",
   "id": "6b19e1ed087ce30b",
   "metadata": {
    "lang": "de",
    "slideshow": {
     "slide_type": "subslide"
    },
    "tags": [
     "subslide"
    ]
   },
   "source": [
    "\n",
    "## Operationen\n",
    "\n",
    "C++ bietet die üblichen Operationen an:\n",
    "- Vergleichsoperationen\n",
    "- Boolesche Operationen (und, oder, nicht)\n",
    "- Arithmetik\n",
    "- ..."
   ]
  },
  {
   "cell_type": "markdown",
   "id": "b543388585ba5951",
   "metadata": {
    "lang": "de",
    "slideshow": {
     "slide_type": "subslide"
    },
    "tags": [
     "subslide"
    ]
   },
   "source": [
    "\n",
    "### Vergleichsoperationen\n",
    "\n",
    "| Operation | Bedeutung      |\n",
    "| :-------: | :------------- |\n",
    "| `x == y`  | Gleichheit     |\n",
    "| `x != y`  | Ungleichheit   |\n",
    "| `x < y`   | Kleiner        |\n",
    "| `x <= y`  | Kleiner oder gleich |\n",
    "| `x > y`   | Größer         |\n",
    "| `x >= y`  | Größer oder gleich |"
   ]
  },
  {
   "cell_type": "markdown",
   "id": "99edb1242a715d58",
   "metadata": {
    "lang": "de",
    "slideshow": {
     "slide_type": "subslide"
    },
    "tags": [
     "subslide"
    ]
   },
   "source": [
    "\n",
    "#### Gleichheit"
   ]
  },
  {
   "cell_type": "code",
   "execution_count": null,
   "id": "c798886db31a775d",
   "metadata": {},
   "outputs": [],
   "source": [
    "1 == 2"
   ]
  },
  {
   "cell_type": "code",
   "execution_count": null,
   "id": "4a782ccb8d074743",
   "metadata": {},
   "outputs": [],
   "source": [
    "1 == 1"
   ]
  },
  {
   "cell_type": "code",
   "execution_count": null,
   "id": "30fd341d394bc402",
   "metadata": {},
   "outputs": [],
   "source": [
    "1 != 2"
   ]
  },
  {
   "cell_type": "code",
   "execution_count": null,
   "id": "2176cdb467635956",
   "metadata": {},
   "outputs": [],
   "source": [
    "1 != 1"
   ]
  },
  {
   "cell_type": "markdown",
   "id": "be4ab99789155600",
   "metadata": {
    "lang": "de",
    "slideshow": {
     "slide_type": "subslide"
    },
    "tags": [
     "subslide"
    ]
   },
   "source": [
    "\n",
    "#### Vergleiche"
   ]
  },
  {
   "cell_type": "code",
   "execution_count": null,
   "id": "08eea0bbe7955d9c",
   "metadata": {},
   "outputs": [],
   "source": [
    "1 < 2"
   ]
  },
  {
   "cell_type": "code",
   "execution_count": null,
   "id": "6a1256c148a75acb",
   "metadata": {},
   "outputs": [],
   "source": [
    "1 < 1"
   ]
  },
  {
   "cell_type": "code",
   "execution_count": null,
   "id": "661db02db61aec30",
   "metadata": {},
   "outputs": [],
   "source": [
    "1 <= 1"
   ]
  },
  {
   "cell_type": "markdown",
   "id": "40eb1b7c5a2e5a97",
   "metadata": {
    "lang": "de",
    "slideshow": {
     "slide_type": "subslide"
    },
    "tags": [
     "subslide"
    ]
   },
   "source": [
    "\n",
    "### Boolesche Operationen\n",
    "\n",
    "| Operation   | Bedeutung          |\n",
    "| :---------: | :----------------- |\n",
    "| `x && y`    | Logisches Und      |\n",
    "| `x \\|\\| y`  | Logisches Oder     |\n",
    "| `!x`        | Negation           |"
   ]
  },
  {
   "cell_type": "markdown",
   "id": "71ebdd51cdf909a1",
   "metadata": {
    "lang": "de",
    "slideshow": {
     "slide_type": "subslide"
    },
    "tags": [
     "subslide"
    ]
   },
   "source": [
    "\n",
    "#### Negation"
   ]
  },
  {
   "cell_type": "code",
   "execution_count": null,
   "id": "8f6eb64d8b4fbfaf",
   "metadata": {
    "lang": "de",
    "tags": [
     "alt"
    ]
   },
   "outputs": [],
   "source": [
    "// Verhindere, dass das Notebook `!` am Anfang einer Zelle als Shell-Escape interpretiert\n",
    "!true"
   ]
  },
  {
   "cell_type": "code",
   "execution_count": null,
   "id": "816888fdf4d0de04",
   "metadata": {},
   "outputs": [],
   "source": [
    "//\n",
    "!false"
   ]
  },
  {
   "cell_type": "markdown",
   "id": "ee5cfe8cb7ae9181",
   "metadata": {
    "lang": "de",
    "slideshow": {
     "slide_type": "subslide"
    },
    "tags": [
     "subslide"
    ]
   },
   "source": [
    "\n",
    "#### Logisches Und"
   ]
  },
  {
   "cell_type": "code",
   "execution_count": null,
   "id": "640a9f5c0b4755f9",
   "metadata": {},
   "outputs": [],
   "source": [
    "true && true"
   ]
  },
  {
   "cell_type": "code",
   "execution_count": null,
   "id": "517d793caaa32166",
   "metadata": {},
   "outputs": [],
   "source": [
    "true && false"
   ]
  },
  {
   "cell_type": "markdown",
   "id": "7519128a505ccce7",
   "metadata": {
    "lang": "de",
    "slideshow": {
     "slide_type": "subslide"
    },
    "tags": [
     "subslide"
    ]
   },
   "source": [
    "\n",
    "#### Logisches Oder"
   ]
  },
  {
   "cell_type": "code",
   "execution_count": null,
   "id": "d4846906d0853fb6",
   "metadata": {},
   "outputs": [],
   "source": [
    "false || true"
   ]
  },
  {
   "cell_type": "code",
   "execution_count": null,
   "id": "8a140399dcb70777",
   "metadata": {},
   "outputs": [],
   "source": [
    "false || false"
   ]
  },
  {
   "cell_type": "markdown",
   "id": "1b6f9d2cd7beac25",
   "metadata": {
    "slideshow": {
     "slide_type": "subslide"
    },
    "tags": [
     "subslide"
    ]
   },
   "source": [
    "\n",
    "<table border=\"1\" style=\"border-collapse: collapse;\">\n",
    "    <tr>\n",
    "        <th style=\"border-bottom: 2px solid black; border-right: 1px solid black;\"><tt>x</tt></th>\n",
    "        <th style=\"border-bottom: 2px solid black; border-right: 1px solid black;\"><tt>y</tt></th>\n",
    "        <th style=\"border-bottom: 2px solid black; border-right: 1px solid black;\"><tt>!x</tt></th>\n",
    "        <th style=\"border-bottom: 2px solid black; border-right: 1px solid black;\"><tt>x &amp;&amp; y</tt></th>\n",
    "        <th style=\"border-bottom: 2px solid black;\"><tt>x || y</tt></th>\n",
    "    </tr>\n",
    "    <tr>\n",
    "        <td style=\"border-right: 1px solid black;\"><tt>true</tt></td>\n",
    "        <td style=\"border-right: 1px solid black;\"><tt>true</tt></td>\n",
    "        <td style=\"border-right: 1px solid black;\"><tt>false</tt></td>\n",
    "        <td style=\"border-right: 1px solid black;\"><tt>true</tt></td>\n",
    "        <td><tt>true</tt></td>\n",
    "    </tr>\n",
    "    <tr>\n",
    "        <td style=\"border-right: 1px solid black;\"><tt>true</tt></td>\n",
    "        <td style=\"border-right: 1px solid black;\"><tt>false</tt></td>\n",
    "        <td style=\"border-right: 1px solid black;\"><tt>false</tt></td>\n",
    "        <td style=\"border-right: 1px solid black;\"><tt>false</tt></td>\n",
    "        <td><tt>true</tt></td>\n",
    "    </tr>\n",
    "    <tr>\n",
    "        <td style=\"border-right: 1px solid black;\"><tt>false</tt></td>\n",
    "        <td style=\"border-right: 1px solid black;\"><tt>true</tt></td>\n",
    "        <td style=\"border-right: 1px solid black;\"><tt>true</tt></td>\n",
    "        <td style=\"border-right: 1px solid black;\"><tt>false</tt></td>\n",
    "        <td><tt>true</tt></td>\n",
    "    </tr>\n",
    "    <tr>\n",
    "        <td style=\"border-right: 1px solid black;\"><tt>false</tt></td>\n",
    "        <td style=\"border-right: 1px solid black;\"><tt>false</tt></td>\n",
    "        <td style=\"border-right: 1px solid black;\"><tt>true</tt></td>\n",
    "        <td style=\"border-right: 1px solid black;\"><tt>false</tt></td>\n",
    "        <td><tt>false</tt></td>\n",
    "    </tr>\n",
    "</table>"
   ]
  },
  {
   "cell_type": "markdown",
   "id": "7e0e34d16ab6fe0f",
   "metadata": {
    "lang": "de",
    "slideshow": {
     "slide_type": "subslide"
    },
    "tags": [
     "subslide"
    ]
   },
   "source": [
    "\n",
    "- Die Booleschen Operatoren können auch mit Werten verwendet werden, die\n",
    "  nicht den Typ `bool` haben.\n",
    "- Bei integralen Werten gilt `0` als falsch und jeder andere Wert als wahr."
   ]
  },
  {
   "cell_type": "code",
   "execution_count": null,
   "id": "535f89668ac2eea0",
   "metadata": {
    "slideshow": {
     "slide_type": "subslide"
    },
    "tags": [
     "subslide"
    ]
   },
   "outputs": [],
   "source": [
    "1 || true"
   ]
  },
  {
   "cell_type": "code",
   "execution_count": null,
   "id": "571111080fb680ec",
   "metadata": {},
   "outputs": [],
   "source": [
    "true || 2"
   ]
  },
  {
   "cell_type": "code",
   "execution_count": null,
   "id": "bdf05e39d6261319",
   "metadata": {},
   "outputs": [],
   "source": [
    "true && 0"
   ]
  },
  {
   "cell_type": "code",
   "execution_count": null,
   "id": "3676d201fbca6b11",
   "metadata": {},
   "outputs": [],
   "source": [
    "//\n",
    "!-1"
   ]
  },
  {
   "cell_type": "code",
   "execution_count": null,
   "id": "1355051de5281ebe",
   "metadata": {},
   "outputs": [],
   "source": [
    "//\n",
    "!0"
   ]
  },
  {
   "cell_type": "markdown",
   "id": "f0cb49ac431ca8f3",
   "metadata": {
    "lang": "de",
    "slideshow": {
     "slide_type": "subslide"
    },
    "tags": [
     "subslide"
    ]
   },
   "source": [
    "\n",
    "## Workshop: Boolesche Operationen\n",
    "\n",
    "In diesem kurzen Workshop werden wir einige Boolesche Operationen\n",
    "ausprobieren. Der Hauptzweck ist, dass Sie im Umgang mit Notebooks und\n",
    "mit der Syntax von C++ vertraut werden.\n",
    "\n",
    "Wie können Sie in C++ testen, ob die Zahl 0 kleiner als die Zahl 1 ist?"
   ]
  },
  {
   "cell_type": "code",
   "execution_count": null,
   "id": "9755410f0a5fc221",
   "metadata": {},
   "outputs": [],
   "source": [
    "0 < 1"
   ]
  },
  {
   "cell_type": "markdown",
   "id": "25199f40dd9f24dc",
   "metadata": {
    "lang": "de",
    "slideshow": {
     "slide_type": "subslide"
    },
    "tags": [
     "subslide"
    ]
   },
   "source": [
    "\n",
    "Wie können Sie in C++ testen, ob die Zahl `1` im Intervall `[0, 10]` liegt,\n",
    "ob also gleichzeitig die Bedingungen `0 < 1` und `1 < 10` erfüllt sind?"
   ]
  },
  {
   "cell_type": "code",
   "execution_count": null,
   "id": "02cd4e416de4d100",
   "metadata": {},
   "outputs": [],
   "source": [
    "0 < 1 && 1 < 10"
   ]
  },
  {
   "cell_type": "markdown",
   "id": "523a194e59e8b325",
   "metadata": {
    "lang": "de",
    "slideshow": {
     "slide_type": "subslide"
    },
    "tags": [
     "subslide",
     "alt"
    ]
   },
   "source": [
    "\n",
    "**Hinweis:** Sie können diese Operationen nicht in einen Ausdruck der Form `0\n",
    "< 1 < 10` schreiben. Dieser Ausdruck ist in C++ zwar syntaktisch erlaubt, hat\n",
    "aber eine andere Bedeutung."
   ]
  },
  {
   "cell_type": "code",
   "execution_count": null,
   "id": "0620542fef3fc9d2",
   "metadata": {
    "tags": [
     "alt"
    ]
   },
   "outputs": [],
   "source": [
    "0 < 1 < 10"
   ]
  },
  {
   "cell_type": "markdown",
   "id": "125d2f67500b1f4d",
   "metadata": {
    "lang": "de",
    "slideshow": {
     "slide_type": "subslide"
    },
    "tags": [
     "subslide",
     "alt"
    ]
   },
   "source": [
    "\n",
    "Dieser Ausdruck wird wie folgt ausgewertet:\n",
    "- `0 < 1` ist wahr, hat also den Wert `true`.\n",
    "- `true < 10` wird als `1 < 10` ausgewertet, ergibt also ebenfalls `true`.\n",
    "\n",
    "In diesem Fall ist das das selbe Ergebnis wie `0 < 1 && 1 < 10`.\n",
    "\n",
    "Wir sehen den Unterschied, wenn wir zwei andere Bedingungen verwenden:"
   ]
  },
  {
   "cell_type": "code",
   "execution_count": null,
   "id": "a83599820962d7b4",
   "metadata": {
    "tags": [
     "alt"
    ]
   },
   "outputs": [],
   "source": [
    "10 > 5 && 5 > 2"
   ]
  },
  {
   "cell_type": "code",
   "execution_count": null,
   "id": "41762a5b0e7f13d4",
   "metadata": {
    "tags": [
     "alt"
    ]
   },
   "outputs": [],
   "source": [
    "10 > 5 > 2"
   ]
  },
  {
   "cell_type": "markdown",
   "id": "74fa7485e280bf21",
   "metadata": {
    "lang": "de",
    "slideshow": {
     "slide_type": "subslide"
    },
    "tags": [
     "subslide"
    ]
   },
   "source": [
    "\n",
    "- Was ist das Ergebnis von `!!true`?\n",
    "- Was ist das Ergebnis von `!!0`?\n",
    "- Was ist das Ergebnis von `!!1`?"
   ]
  },
  {
   "cell_type": "code",
   "execution_count": null,
   "id": "3beae3dad8b48fb0",
   "metadata": {},
   "outputs": [],
   "source": [
    "//\n",
    "!!true"
   ]
  },
  {
   "cell_type": "code",
   "execution_count": null,
   "id": "efc6a4435d83a78b",
   "metadata": {},
   "outputs": [],
   "source": [
    "//\n",
    "!!0"
   ]
  },
  {
   "cell_type": "code",
   "execution_count": null,
   "id": "b107174f6da847ae",
   "metadata": {
    "lines_to_next_cell": 2
   },
   "outputs": [],
   "source": [
    "//\n",
    "!!1"
   ]
  }
 ],
 "metadata": {
  "kernelspec": {
   "display_name": "C++17",
   "language": "C++17",
   "name": "xcpp17"
  },
  "language_info": {
   "codemirror_mode": "text/x-c++src",
   "file_extension": ".cpp",
   "mimetype": "text/x-c++src",
   "name": "c++",
   "version": "17"
  }
 },
 "nbformat": 4,
 "nbformat_minor": 5
}
