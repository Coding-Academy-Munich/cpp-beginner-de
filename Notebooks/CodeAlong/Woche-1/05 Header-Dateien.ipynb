{
 "cells": [
  {
   "cell_type": "markdown",
   "id": "c372e5c5af11493a",
   "metadata": {
    "lang": "de",
    "slideshow": {
     "slide_type": "slide"
    },
    "tags": [
     "slide"
    ]
   },
   "source": [
    "\n",
    "<img src=\"data:image/png;base64,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\"\n",
    "     style=\"display:block;margin:auto;width:5%\"/>\n",
    "<br>\n",
    "\n",
    "<div style=\"text-align:center; font-size:200%;\">\n",
    " <b>Header-Dateien</b>\n",
    "</div>\n",
    "<br/>\n",
    "<div style=\"text-align:center; font-size:120%;\">Dr. Matthias Hölzl</div>\n",
    "<br/>\n",
    "<div style=\"text-align:center;\">Coding-Akademie München</div>\n",
    "<br/>\n",
    "<!-- 05 Header-Dateien.ipynb -->\n",
    "<!-- slides/module_120_basics/topic_140_header.cpp -->"
   ]
  },
  {
   "cell_type": "markdown",
   "id": "ed6969bd62ff46bf",
   "metadata": {
    "lang": "de",
    "slideshow": {
     "slide_type": "subslide"
    },
    "tags": [
     "subslide"
    ]
   },
   "source": [
    "\n",
    "- Um Funktionalität aus Bibliotheken zu verwenden, müssen wir dem Compiler\n",
    "  mitteilen, welche Typen und Funktionen wir verwenden wollen.\n",
    "- In C++ geschieht das durch die *Deklaration* von Typen und Funktionen.\n",
    "- Eine Deklaration ist eine Aussage über die Existenz eines Typs oder einer\n",
    "  Funktion."
   ]
  },
  {
   "cell_type": "code",
   "execution_count": null,
   "id": "9bfb1138e5edb480",
   "metadata": {},
   "outputs": [],
   "source": []
  },
  {
   "cell_type": "markdown",
   "id": "5ee190c7009b90a2",
   "metadata": {
    "lang": "de",
    "slideshow": {
     "slide_type": "subslide"
    },
    "tags": [
     "subslide"
    ]
   },
   "source": [
    "\n",
    "- Deklarationen werden oft in sogenannten *Header-Dateien* gespeichert.\n",
    "- Sie werden mit der `#include`-Direktive in die aktuelle Datei eingefügt.\n",
    "- Der Code wird typischerweise beim Link-Vorgang zum Programm hinzugefügt."
   ]
  },
  {
   "cell_type": "markdown",
   "id": "c831b72e06f7e0a0",
   "metadata": {
    "lang": "de",
    "slideshow": {
     "slide_type": "subslide"
    },
    "tags": [
     "subslide"
    ]
   },
   "source": [
    "\n",
    "- Header-Dateien haben die Endung `.h` oder `.hpp`.\n",
    "- Die `#include`-Direktive fügt den Inhalt der angegebenen Datei textuell in\n",
    "  die aktuelle Datei ein.\n",
    "- Es gibt zwei syntaktische Varianten der `#include`-Direktive.\n",
    "- `#include <...>`"
   ]
  },
  {
   "cell_type": "code",
   "execution_count": null,
   "id": "a0ee650c342d197c",
   "metadata": {},
   "outputs": [],
   "source": []
  },
  {
   "cell_type": "markdown",
   "id": "685243a569f9e33e",
   "metadata": {
    "lang": "de"
   },
   "source": [
    "\n",
    "- `#include \"...\"`"
   ]
  },
  {
   "cell_type": "code",
   "execution_count": null,
   "id": "1187fd8ca133afe5",
   "metadata": {},
   "outputs": [],
   "source": []
  },
  {
   "cell_type": "markdown",
   "id": "94508b2caf95ebf1",
   "metadata": {
    "lang": "de",
    "slideshow": {
     "slide_type": "subslide"
    },
    "tags": [
     "subslide"
    ]
   },
   "source": [
    "\n",
    "- Header-Dateien können auch andere Header-Dateien einbinden.\n",
    "- Wir wollen verhindern, dass dabei der Inhalt einer Header-Datei mehrfach\n",
    "  eingebunden wird.\n",
    "- Dazu verwenden wir *Include Guards*."
   ]
  },
  {
   "cell_type": "code",
   "execution_count": null,
   "id": "8c9e7ac5a3f39992",
   "metadata": {
    "tags": [
     "keep"
    ]
   },
   "outputs": [],
   "source": [
    "#ifndef MY_INCLUDE_FILE_H\n",
    "#define MY_INCLUDE_FILE_H\n",
    "\n",
    "// ...\n",
    "\n",
    "#endif"
   ]
  },
  {
   "cell_type": "markdown",
   "id": "ba7280e9e6874dc8",
   "metadata": {
    "lang": "de",
    "slideshow": {
     "slide_type": "subslide"
    },
    "tags": [
     "subslide"
    ]
   },
   "source": [
    "\n",
    "- Wir zeigen, wie die Definition des Präprozessor-Makros funktioniert.\n",
    "- Der Code im Include-Guard wäre in einer Header-Datei nicht zulässig."
   ]
  },
  {
   "cell_type": "code",
   "execution_count": null,
   "id": "398b5aa17e579f36",
   "metadata": {
    "tags": [
     "keep"
    ]
   },
   "outputs": [],
   "source": [
    "#ifndef MY_PREPROCESSOR_MACRO_H\n",
    "#define MY_PREPROCESSOR_MACRO_H\n",
    "int i{1};\n",
    "#endif"
   ]
  },
  {
   "cell_type": "code",
   "execution_count": null,
   "id": "ca0e1bce24fbaf26",
   "metadata": {},
   "outputs": [],
   "source": []
  },
  {
   "cell_type": "code",
   "execution_count": null,
   "id": "0b817cbd2f8d7bd5",
   "metadata": {
    "tags": [
     "keep"
    ]
   },
   "outputs": [],
   "source": [
    "#ifndef MY_PREPROCESSOR_MACRO_H\n",
    "#define MY_PREPROCESSOR_MACRO_H\n",
    "i = 2;\n",
    "#endif"
   ]
  },
  {
   "cell_type": "code",
   "execution_count": null,
   "id": "30da931b66884447",
   "metadata": {},
   "outputs": [],
   "source": []
  },
  {
   "cell_type": "markdown",
   "id": "0e88fccf006dbeec",
   "metadata": {
    "lang": "de",
    "slideshow": {
     "slide_type": "subslide"
    },
    "tags": [
     "subslide"
    ]
   },
   "source": [
    "\n",
    "Die `add.h` Header-Datei sieht also so aus:\n",
    "\n",
    "```cpp\n",
    "#ifndef ADD_H\n",
    "#define ADD_H\n",
    "\n",
    "int add(int a, int b);\n",
    "\n",
    "#endif\n",
    "```"
   ]
  },
  {
   "cell_type": "markdown",
   "id": "16d20a4e11cbbf47",
   "metadata": {
    "lang": "de",
    "slideshow": {
     "slide_type": "subslide"
    },
    "tags": [
     "subslide"
    ]
   },
   "source": [
    "\n",
    "- Wir werden später sehen, wie wir die zugehörige Definition der Funktion\n",
    "  `add` schreiben können.\n",
    "- Im Moment beschränken wir uns darauf, Header aus der Standardbibliothek\n",
    "  zu verwenden.\n",
    "- Für diese brauchen wir uns nicht um die Definitionen zu kümmern.\n",
    "- Header aus der Standardbibliothek haben keine Endung."
   ]
  },
  {
   "cell_type": "markdown",
   "id": "50aca63009f61a5b",
   "metadata": {
    "lang": "de",
    "slideshow": {
     "slide_type": "subslide"
    },
    "tags": [
     "subslide"
    ]
   },
   "source": [
    "\n",
    "- Wir wollen die Funktion `std::abs()` aus der Standardbibliothek verwenden.\n",
    "- Signatur: `int abs(int)`\n",
    "- Deklariert in der Header-Datei `cstdlib`."
   ]
  },
  {
   "cell_type": "code",
   "execution_count": null,
   "id": "834ac0a25b432557",
   "metadata": {},
   "outputs": [],
   "source": []
  },
  {
   "cell_type": "code",
   "execution_count": null,
   "id": "38f4fae149501fb0",
   "metadata": {},
   "outputs": [],
   "source": []
  },
  {
   "cell_type": "code",
   "execution_count": null,
   "id": "7a08ed7f4d180bb6",
   "metadata": {},
   "outputs": [],
   "source": []
  },
  {
   "cell_type": "markdown",
   "id": "9cfebf4da7413094",
   "metadata": {
    "lang": "de",
    "slideshow": {
     "slide_type": "subslide"
    },
    "tags": [
     "subslide"
    ]
   },
   "source": [
    "\n",
    "## Core Guidelines für Header-Dateien\n",
    "\n",
    "[SF: Source\n",
    "files](https://isocpp.github.io/CppCoreGuidelines/CppCoreGuidelines#sf-source-files)\n",
    "\n",
    "- [SF.1: Use a .cpp suffix for code files and .h for interface files if your\n",
    "  project doesn’t already follow another\n",
    "  convention](https://isocpp.github.io/CppCoreGuidelines/CppCoreGuidelines#Rs-file-suffix)\n",
    "- [SF.2: A header file must not contain object definitions or non-inline\n",
    "  function\n",
    "  definitions](https://isocpp.github.io/CppCoreGuidelines/CppCoreGuidelines#Rs-inline)\n",
    "- [SF.3: Use header files for all declarations used in multiple source\n",
    "  files](https://isocpp.github.io/CppCoreGuidelines/CppCoreGuidelines#Rs-declaration-header)\n",
    "- [SF.8: Use #include guards for all header\n",
    "  files](https://isocpp.github.io/CppCoreGuidelines/CppCoreGuidelines#Rs-guards)\n",
    "- [SF.12: Prefer the quoted form of #include for files relative to the\n",
    "  including file and the angle bracket form everywhere\n",
    "  else](https://isocpp.github.io/CppCoreGuidelines/CppCoreGuidelines#Rs-incform)"
   ]
  },
  {
   "cell_type": "markdown",
   "id": "b641fc5afe74abb6",
   "metadata": {
    "lang": "de",
    "slideshow": {
     "slide_type": "subslide"
    },
    "tags": [
     "subslide"
    ]
   },
   "source": [
    "\n",
    "## Workshop: Mathematische Funktionen\n",
    "\n",
    "- Der Header `cmath` enthält mathematische Funktionen.\n",
    "- Die Funktion `std::sqrt()` berechnet die Quadratwurzel einer Zahl.\n",
    "- Die Funktion `std::pow()` berechnet eine Potenz.\n",
    "- Die Funktion `std::sin()` berechnet den Sinus eines Winkels."
   ]
  },
  {
   "cell_type": "markdown",
   "id": "6bfb3aefb81acd79",
   "metadata": {
    "lang": "de",
    "slideshow": {
     "slide_type": "subslide"
    },
    "tags": [
     "subslide"
    ]
   },
   "source": [
    "\n",
    "- Importieren Sie den Header `cmath`."
   ]
  },
  {
   "cell_type": "code",
   "execution_count": null,
   "id": "cf7cf5d9f70b1894",
   "metadata": {},
   "outputs": [],
   "source": []
  },
  {
   "cell_type": "markdown",
   "id": "bd1da282e09c9838",
   "metadata": {
    "lang": "de",
    "slideshow": {
     "slide_type": "subslide"
    },
    "tags": [
     "subslide"
    ]
   },
   "source": [
    "\n",
    "- Berechnen Sie die Quadratwurzel von 2."
   ]
  },
  {
   "cell_type": "code",
   "execution_count": null,
   "id": "791bec884a9da51e",
   "metadata": {},
   "outputs": [],
   "source": []
  },
  {
   "cell_type": "markdown",
   "id": "33d1b2b4e5902b21",
   "metadata": {
    "lang": "de"
   },
   "source": [
    "\n",
    "- Berechnen Sie 2 hoch 15."
   ]
  },
  {
   "cell_type": "code",
   "execution_count": null,
   "id": "1cf18d47db3ba74f",
   "metadata": {},
   "outputs": [],
   "source": []
  },
  {
   "cell_type": "markdown",
   "id": "ba3597c32fba1211",
   "metadata": {
    "lang": "de"
   },
   "source": [
    "\n",
    "- Berechnen Sie den Sinus von 1."
   ]
  },
  {
   "cell_type": "code",
   "execution_count": null,
   "id": "1164d2720c90e036",
   "metadata": {},
   "outputs": [],
   "source": []
  }
 ],
 "metadata": {
  "kernelspec": {
   "display_name": "C++17",
   "language": "C++17",
   "name": "xcpp17"
  },
  "language_info": {
   "codemirror_mode": "text/x-c++src",
   "file_extension": ".cpp",
   "mimetype": "text/x-c++src",
   "name": "c++",
   "version": "17"
  }
 },
 "nbformat": 4,
 "nbformat_minor": 5
}
